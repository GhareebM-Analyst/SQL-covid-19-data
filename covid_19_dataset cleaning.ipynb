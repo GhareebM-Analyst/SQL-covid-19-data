{
 "cells": [
  {
   "cell_type": "markdown",
   "id": "8d21935a",
   "metadata": {},
   "source": [
    "# Introduction\n",
    "This notebook contains the python code used to clean and manipulate  a dataset downloaded from ['Our World in Data'](https://github.com/owid) website using this [link](https://github.com/owid/covid-19-data/blob/master/public/data/owid-covid-data.csv). Subsets of data were generated and used to construct a SQL database which then utilized to create monthly aggregated dataset of cases that eventually was used to create visualization in [Tableau Software](https://www.tableau.com).\n"
   ]
  },
  {
   "cell_type": "markdown",
   "id": "5ccec62e",
   "metadata": {},
   "source": [
    "## Importing libraries"
   ]
  },
  {
   "cell_type": "code",
   "execution_count": 1,
   "id": "fe9fb5e7",
   "metadata": {},
   "outputs": [],
   "source": [
    "# importing required libraries\n",
    "\n",
    "import pandas as pd\n",
    "import numpy as np"
   ]
  },
  {
   "cell_type": "markdown",
   "id": "ebdbcfc0",
   "metadata": {},
   "source": [
    "## Loading the dataset"
   ]
  },
  {
   "cell_type": "code",
   "execution_count": 2,
   "id": "4191b01a",
   "metadata": {},
   "outputs": [
    {
     "data": {
      "text/html": [
       "<div>\n",
       "<style scoped>\n",
       "    .dataframe tbody tr th:only-of-type {\n",
       "        vertical-align: middle;\n",
       "    }\n",
       "\n",
       "    .dataframe tbody tr th {\n",
       "        vertical-align: top;\n",
       "    }\n",
       "\n",
       "    .dataframe thead th {\n",
       "        text-align: right;\n",
       "    }\n",
       "</style>\n",
       "<table border=\"1\" class=\"dataframe\">\n",
       "  <thead>\n",
       "    <tr style=\"text-align: right;\">\n",
       "      <th></th>\n",
       "      <th>iso_code</th>\n",
       "      <th>continent</th>\n",
       "      <th>location</th>\n",
       "      <th>date</th>\n",
       "      <th>total_cases</th>\n",
       "      <th>new_cases</th>\n",
       "      <th>new_cases_smoothed</th>\n",
       "      <th>total_deaths</th>\n",
       "      <th>new_deaths</th>\n",
       "      <th>new_deaths_smoothed</th>\n",
       "      <th>...</th>\n",
       "      <th>male_smokers</th>\n",
       "      <th>handwashing_facilities</th>\n",
       "      <th>hospital_beds_per_thousand</th>\n",
       "      <th>life_expectancy</th>\n",
       "      <th>human_development_index</th>\n",
       "      <th>population</th>\n",
       "      <th>excess_mortality_cumulative_absolute</th>\n",
       "      <th>excess_mortality_cumulative</th>\n",
       "      <th>excess_mortality</th>\n",
       "      <th>excess_mortality_cumulative_per_million</th>\n",
       "    </tr>\n",
       "  </thead>\n",
       "  <tbody>\n",
       "    <tr>\n",
       "      <th>0</th>\n",
       "      <td>AFG</td>\n",
       "      <td>Asia</td>\n",
       "      <td>Afghanistan</td>\n",
       "      <td>2020-02-24</td>\n",
       "      <td>5.0</td>\n",
       "      <td>5.0</td>\n",
       "      <td>NaN</td>\n",
       "      <td>NaN</td>\n",
       "      <td>NaN</td>\n",
       "      <td>NaN</td>\n",
       "      <td>...</td>\n",
       "      <td>NaN</td>\n",
       "      <td>37.746</td>\n",
       "      <td>0.5</td>\n",
       "      <td>64.83</td>\n",
       "      <td>0.511</td>\n",
       "      <td>41128772.0</td>\n",
       "      <td>NaN</td>\n",
       "      <td>NaN</td>\n",
       "      <td>NaN</td>\n",
       "      <td>NaN</td>\n",
       "    </tr>\n",
       "    <tr>\n",
       "      <th>1</th>\n",
       "      <td>AFG</td>\n",
       "      <td>Asia</td>\n",
       "      <td>Afghanistan</td>\n",
       "      <td>2020-02-25</td>\n",
       "      <td>5.0</td>\n",
       "      <td>0.0</td>\n",
       "      <td>NaN</td>\n",
       "      <td>NaN</td>\n",
       "      <td>NaN</td>\n",
       "      <td>NaN</td>\n",
       "      <td>...</td>\n",
       "      <td>NaN</td>\n",
       "      <td>37.746</td>\n",
       "      <td>0.5</td>\n",
       "      <td>64.83</td>\n",
       "      <td>0.511</td>\n",
       "      <td>41128772.0</td>\n",
       "      <td>NaN</td>\n",
       "      <td>NaN</td>\n",
       "      <td>NaN</td>\n",
       "      <td>NaN</td>\n",
       "    </tr>\n",
       "  </tbody>\n",
       "</table>\n",
       "<p>2 rows × 67 columns</p>\n",
       "</div>"
      ],
      "text/plain": [
       "  iso_code continent     location        date  total_cases  new_cases  \\\n",
       "0      AFG      Asia  Afghanistan  2020-02-24          5.0        5.0   \n",
       "1      AFG      Asia  Afghanistan  2020-02-25          5.0        0.0   \n",
       "\n",
       "   new_cases_smoothed  total_deaths  new_deaths  new_deaths_smoothed  ...  \\\n",
       "0                 NaN           NaN         NaN                  NaN  ...   \n",
       "1                 NaN           NaN         NaN                  NaN  ...   \n",
       "\n",
       "   male_smokers  handwashing_facilities  hospital_beds_per_thousand  \\\n",
       "0           NaN                  37.746                         0.5   \n",
       "1           NaN                  37.746                         0.5   \n",
       "\n",
       "   life_expectancy  human_development_index  population  \\\n",
       "0            64.83                    0.511  41128772.0   \n",
       "1            64.83                    0.511  41128772.0   \n",
       "\n",
       "   excess_mortality_cumulative_absolute  excess_mortality_cumulative  \\\n",
       "0                                   NaN                          NaN   \n",
       "1                                   NaN                          NaN   \n",
       "\n",
       "   excess_mortality  excess_mortality_cumulative_per_million  \n",
       "0               NaN                                      NaN  \n",
       "1               NaN                                      NaN  \n",
       "\n",
       "[2 rows x 67 columns]"
      ]
     },
     "execution_count": 2,
     "metadata": {},
     "output_type": "execute_result"
    }
   ],
   "source": [
    "df = pd.read_csv(\"https://raw.githubusercontent.com/owid/covid-19-data/master/public/data/owid-covid-data.csv\")\n",
    "df.head(2)\n",
    "\n"
   ]
  },
  {
   "cell_type": "markdown",
   "id": "3b47ab5a",
   "metadata": {},
   "source": [
    "## Exploring and cleaning the dataset"
   ]
  },
  {
   "cell_type": "code",
   "execution_count": 3,
   "id": "4a0b5570",
   "metadata": {},
   "outputs": [
    {
     "data": {
      "text/plain": [
       "(252742, 67)"
      ]
     },
     "execution_count": 3,
     "metadata": {},
     "output_type": "execute_result"
    }
   ],
   "source": [
    "df.shape"
   ]
  },
  {
   "cell_type": "code",
   "execution_count": 4,
   "id": "9d81ca59",
   "metadata": {},
   "outputs": [],
   "source": [
    "## adding ids identifiers to used in creating SQl database\n",
    "\n",
    "df.insert(0,\"vacc_id\", np.arange(1,len(df)+1))\n",
    "df.insert(0,\"case_id\", np.arange(1,len(df)+1))"
   ]
  },
  {
   "cell_type": "code",
   "execution_count": 5,
   "id": "1e34693b",
   "metadata": {},
   "outputs": [
    {
     "name": "stdout",
     "output_type": "stream",
     "text": [
      "<class 'pandas.core.frame.DataFrame'>\n",
      "RangeIndex: 252742 entries, 0 to 252741\n",
      "Data columns (total 69 columns):\n",
      " #   Column                                      Non-Null Count   Dtype  \n",
      "---  ------                                      --------------   -----  \n",
      " 0   case_id                                     252742 non-null  int64  \n",
      " 1   vacc_id                                     252742 non-null  int64  \n",
      " 2   iso_code                                    252742 non-null  object \n",
      " 3   continent                                   238548 non-null  object \n",
      " 4   location                                    252742 non-null  object \n",
      " 5   date                                        252742 non-null  object \n",
      " 6   total_cases                                 238404 non-null  float64\n",
      " 7   new_cases                                   238142 non-null  float64\n",
      " 8   new_cases_smoothed                          236938 non-null  float64\n",
      " 9   total_deaths                                218831 non-null  float64\n",
      " 10  new_deaths                                  218728 non-null  float64\n",
      " 11  new_deaths_smoothed                         217542 non-null  float64\n",
      " 12  total_cases_per_million                     237320 non-null  float64\n",
      " 13  new_cases_per_million                       237058 non-null  float64\n",
      " 14  new_cases_smoothed_per_million              235859 non-null  float64\n",
      " 15  total_deaths_per_million                    217760 non-null  float64\n",
      " 16  new_deaths_per_million                      217657 non-null  float64\n",
      " 17  new_deaths_smoothed_per_million             216476 non-null  float64\n",
      " 18  reproduction_rate                           184817 non-null  float64\n",
      " 19  icu_patients                                33891 non-null   float64\n",
      " 20  icu_patients_per_million                    33891 non-null   float64\n",
      " 21  hosp_patients                               36905 non-null   float64\n",
      " 22  hosp_patients_per_million                   36905 non-null   float64\n",
      " 23  weekly_icu_admissions                       8529 non-null    float64\n",
      " 24  weekly_icu_admissions_per_million           8529 non-null    float64\n",
      " 25  weekly_hosp_admissions                      20222 non-null   float64\n",
      " 26  weekly_hosp_admissions_per_million          20222 non-null   float64\n",
      " 27  total_tests                                 79387 non-null   float64\n",
      " 28  new_tests                                   75403 non-null   float64\n",
      " 29  total_tests_per_thousand                    79387 non-null   float64\n",
      " 30  new_tests_per_thousand                      75403 non-null   float64\n",
      " 31  new_tests_smoothed                          103965 non-null  float64\n",
      " 32  new_tests_smoothed_per_thousand             103965 non-null  float64\n",
      " 33  positive_rate                               95927 non-null   float64\n",
      " 34  tests_per_case                              94348 non-null   float64\n",
      " 35  tests_units                                 106788 non-null  object \n",
      " 36  total_vaccinations                          71237 non-null   float64\n",
      " 37  people_vaccinated                           68120 non-null   float64\n",
      " 38  people_fully_vaccinated                     65459 non-null   float64\n",
      " 39  total_boosters                              40086 non-null   float64\n",
      " 40  new_vaccinations                            59043 non-null   float64\n",
      " 41  new_vaccinations_smoothed                   151269 non-null  float64\n",
      " 42  total_vaccinations_per_hundred              71237 non-null   float64\n",
      " 43  people_vaccinated_per_hundred               68120 non-null   float64\n",
      " 44  people_fully_vaccinated_per_hundred         65459 non-null   float64\n",
      " 45  total_boosters_per_hundred                  40086 non-null   float64\n",
      " 46  new_vaccinations_smoothed_per_million       151269 non-null  float64\n",
      " 47  new_people_vaccinated_smoothed              151085 non-null  float64\n",
      " 48  new_people_vaccinated_smoothed_per_hundred  151085 non-null  float64\n",
      " 49  stringency_index                            185869 non-null  float64\n",
      " 50  population_density                          220209 non-null  float64\n",
      " 51  median_age                                  203681 non-null  float64\n",
      " 52  aged_65_older                               201534 non-null  float64\n",
      " 53  aged_70_older                               202616 non-null  float64\n",
      " 54  gdp_per_capita                              203304 non-null  float64\n",
      " 55  extreme_poverty                             132400 non-null  float64\n",
      " 56  cardiovasc_death_rate                       203085 non-null  float64\n",
      " 57  diabetes_prevalence                         213738 non-null  float64\n",
      " 58  female_smokers                              153992 non-null  float64\n",
      " 59  male_smokers                                151885 non-null  float64\n",
      " 60  handwashing_facilities                      100170 non-null  float64\n",
      " 61  hospital_beds_per_thousand                  181052 non-null  float64\n",
      " 62  life_expectancy                             231883 non-null  float64\n",
      " 63  human_development_index                     198477 non-null  float64\n",
      " 64  population                                  251658 non-null  float64\n",
      " 65  excess_mortality_cumulative_absolute        8382 non-null    float64\n",
      " 66  excess_mortality_cumulative                 8382 non-null    float64\n",
      " 67  excess_mortality                            8421 non-null    float64\n",
      " 68  excess_mortality_cumulative_per_million     8382 non-null    float64\n",
      "dtypes: float64(62), int64(2), object(5)\n",
      "memory usage: 196.8 MB\n"
     ]
    }
   ],
   "source": [
    "# checking columns data type.\n",
    "df.info(memory_usage= 'deep')"
   ]
  },
  {
   "cell_type": "code",
   "execution_count": 6,
   "id": "b88e2116",
   "metadata": {},
   "outputs": [],
   "source": [
    "# Saving the modified dataset in local folder\n",
    "df.to_csv(\"complete_row_data.csv\", index=False)\n"
   ]
  },
  {
   "cell_type": "markdown",
   "id": "d826a540",
   "metadata": {},
   "source": [
    "A subset of data that related to the number of cases and deaths will be saved in a separate file. Vacinnation and demographics related data will stored in different files. This will help removing redundant information before construction SQL database.  \n",
    "\n",
    "## Creating a dataset contains cases related data"
   ]
  },
  {
   "cell_type": "code",
   "execution_count": 7,
   "id": "b05a6846",
   "metadata": {},
   "outputs": [
    {
     "data": {
      "text/html": [
       "<div>\n",
       "<style scoped>\n",
       "    .dataframe tbody tr th:only-of-type {\n",
       "        vertical-align: middle;\n",
       "    }\n",
       "\n",
       "    .dataframe tbody tr th {\n",
       "        vertical-align: top;\n",
       "    }\n",
       "\n",
       "    .dataframe thead th {\n",
       "        text-align: right;\n",
       "    }\n",
       "</style>\n",
       "<table border=\"1\" class=\"dataframe\">\n",
       "  <thead>\n",
       "    <tr style=\"text-align: right;\">\n",
       "      <th></th>\n",
       "      <th>case_id</th>\n",
       "      <th>vacc_id</th>\n",
       "      <th>iso_code</th>\n",
       "      <th>date</th>\n",
       "      <th>new_cases</th>\n",
       "      <th>new_deaths</th>\n",
       "    </tr>\n",
       "  </thead>\n",
       "  <tbody>\n",
       "    <tr>\n",
       "      <th>0</th>\n",
       "      <td>1</td>\n",
       "      <td>1</td>\n",
       "      <td>AFG</td>\n",
       "      <td>2020-02-24</td>\n",
       "      <td>5</td>\n",
       "      <td>&lt;NA&gt;</td>\n",
       "    </tr>\n",
       "    <tr>\n",
       "      <th>1</th>\n",
       "      <td>2</td>\n",
       "      <td>2</td>\n",
       "      <td>AFG</td>\n",
       "      <td>2020-02-25</td>\n",
       "      <td>0</td>\n",
       "      <td>&lt;NA&gt;</td>\n",
       "    </tr>\n",
       "    <tr>\n",
       "      <th>2</th>\n",
       "      <td>3</td>\n",
       "      <td>3</td>\n",
       "      <td>AFG</td>\n",
       "      <td>2020-02-26</td>\n",
       "      <td>0</td>\n",
       "      <td>&lt;NA&gt;</td>\n",
       "    </tr>\n",
       "    <tr>\n",
       "      <th>3</th>\n",
       "      <td>4</td>\n",
       "      <td>4</td>\n",
       "      <td>AFG</td>\n",
       "      <td>2020-02-27</td>\n",
       "      <td>0</td>\n",
       "      <td>&lt;NA&gt;</td>\n",
       "    </tr>\n",
       "    <tr>\n",
       "      <th>4</th>\n",
       "      <td>5</td>\n",
       "      <td>5</td>\n",
       "      <td>AFG</td>\n",
       "      <td>2020-02-28</td>\n",
       "      <td>0</td>\n",
       "      <td>&lt;NA&gt;</td>\n",
       "    </tr>\n",
       "  </tbody>\n",
       "</table>\n",
       "</div>"
      ],
      "text/plain": [
       "   case_id  vacc_id iso_code        date  new_cases  new_deaths\n",
       "0        1        1      AFG  2020-02-24          5        <NA>\n",
       "1        2        2      AFG  2020-02-25          0        <NA>\n",
       "2        3        3      AFG  2020-02-26          0        <NA>\n",
       "3        4        4      AFG  2020-02-27          0        <NA>\n",
       "4        5        5      AFG  2020-02-28          0        <NA>"
      ]
     },
     "execution_count": 7,
     "metadata": {},
     "output_type": "execute_result"
    }
   ],
   "source": [
    "# Selecting the realevant columns and casting to appropriate type of data \n",
    "covid_19_cases = pd.read_csv(\"complete_row_data.csv\",\n",
    "                             usecols = ['case_id','vacc_id', 'iso_code',\n",
    "                                        'date','new_cases','new_deaths'],\n",
    "                            dtype={'new_cases': 'Int64', 'new_deaths': 'Int64'} )\n",
    "covid_19_cases.head()"
   ]
  },
  {
   "cell_type": "code",
   "execution_count": null,
   "id": "ee415993",
   "metadata": {},
   "outputs": [],
   "source": []
  },
  {
   "cell_type": "code",
   "execution_count": 8,
   "id": "1bf2e6c1",
   "metadata": {},
   "outputs": [],
   "source": [
    "# saving cases dataset\n",
    "covid_19_cases.to_csv(\"covid_19_cases.csv\", index=False)"
   ]
  },
  {
   "cell_type": "markdown",
   "id": "46f5daf1",
   "metadata": {},
   "source": [
    "## Creating a dataset contains vaccination related data"
   ]
  },
  {
   "cell_type": "code",
   "execution_count": 9,
   "id": "df4f270a",
   "metadata": {},
   "outputs": [
    {
     "data": {
      "text/html": [
       "<div>\n",
       "<style scoped>\n",
       "    .dataframe tbody tr th:only-of-type {\n",
       "        vertical-align: middle;\n",
       "    }\n",
       "\n",
       "    .dataframe tbody tr th {\n",
       "        vertical-align: top;\n",
       "    }\n",
       "\n",
       "    .dataframe thead th {\n",
       "        text-align: right;\n",
       "    }\n",
       "</style>\n",
       "<table border=\"1\" class=\"dataframe\">\n",
       "  <thead>\n",
       "    <tr style=\"text-align: right;\">\n",
       "      <th></th>\n",
       "      <th>vacc_id</th>\n",
       "      <th>iso_code</th>\n",
       "      <th>total_tests</th>\n",
       "      <th>new_tests</th>\n",
       "      <th>positive_rate</th>\n",
       "      <th>people_vaccinated</th>\n",
       "      <th>people_fully_vaccinated</th>\n",
       "    </tr>\n",
       "  </thead>\n",
       "  <tbody>\n",
       "    <tr>\n",
       "      <th>0</th>\n",
       "      <td>1</td>\n",
       "      <td>AFG</td>\n",
       "      <td>&lt;NA&gt;</td>\n",
       "      <td>&lt;NA&gt;</td>\n",
       "      <td>NaN</td>\n",
       "      <td>&lt;NA&gt;</td>\n",
       "      <td>&lt;NA&gt;</td>\n",
       "    </tr>\n",
       "    <tr>\n",
       "      <th>1</th>\n",
       "      <td>2</td>\n",
       "      <td>AFG</td>\n",
       "      <td>&lt;NA&gt;</td>\n",
       "      <td>&lt;NA&gt;</td>\n",
       "      <td>NaN</td>\n",
       "      <td>&lt;NA&gt;</td>\n",
       "      <td>&lt;NA&gt;</td>\n",
       "    </tr>\n",
       "    <tr>\n",
       "      <th>2</th>\n",
       "      <td>3</td>\n",
       "      <td>AFG</td>\n",
       "      <td>&lt;NA&gt;</td>\n",
       "      <td>&lt;NA&gt;</td>\n",
       "      <td>NaN</td>\n",
       "      <td>&lt;NA&gt;</td>\n",
       "      <td>&lt;NA&gt;</td>\n",
       "    </tr>\n",
       "    <tr>\n",
       "      <th>3</th>\n",
       "      <td>4</td>\n",
       "      <td>AFG</td>\n",
       "      <td>&lt;NA&gt;</td>\n",
       "      <td>&lt;NA&gt;</td>\n",
       "      <td>NaN</td>\n",
       "      <td>&lt;NA&gt;</td>\n",
       "      <td>&lt;NA&gt;</td>\n",
       "    </tr>\n",
       "    <tr>\n",
       "      <th>4</th>\n",
       "      <td>5</td>\n",
       "      <td>AFG</td>\n",
       "      <td>&lt;NA&gt;</td>\n",
       "      <td>&lt;NA&gt;</td>\n",
       "      <td>NaN</td>\n",
       "      <td>&lt;NA&gt;</td>\n",
       "      <td>&lt;NA&gt;</td>\n",
       "    </tr>\n",
       "  </tbody>\n",
       "</table>\n",
       "</div>"
      ],
      "text/plain": [
       "   vacc_id iso_code  total_tests  new_tests  positive_rate  people_vaccinated  \\\n",
       "0        1      AFG         <NA>       <NA>            NaN               <NA>   \n",
       "1        2      AFG         <NA>       <NA>            NaN               <NA>   \n",
       "2        3      AFG         <NA>       <NA>            NaN               <NA>   \n",
       "3        4      AFG         <NA>       <NA>            NaN               <NA>   \n",
       "4        5      AFG         <NA>       <NA>            NaN               <NA>   \n",
       "\n",
       "   people_fully_vaccinated  \n",
       "0                     <NA>  \n",
       "1                     <NA>  \n",
       "2                     <NA>  \n",
       "3                     <NA>  \n",
       "4                     <NA>  "
      ]
     },
     "execution_count": 9,
     "metadata": {},
     "output_type": "execute_result"
    }
   ],
   "source": [
    "# Selecting the realevant columns and casting to appropriate type of data \n",
    "vacc = pd.read_csv(\"complete_row_data.csv\", \n",
    "                      usecols = ['vacc_id','iso_code','total_tests','new_tests', 'positive_rate', \n",
    "                                 'people_vaccinated', 'people_fully_vaccinated'], \n",
    "                      dtype={'total_tests': 'Int64', 'new_cases': 'Int64', \n",
    "                                    'new_tests': 'Int64','people_vaccinated': 'Int64',\n",
    "                                    'people_fully_vaccinated': 'Int64'})\n",
    "vacc.head()"
   ]
  },
  {
   "cell_type": "code",
   "execution_count": 10,
   "id": "9bfaa11a",
   "metadata": {},
   "outputs": [
    {
     "data": {
      "text/plain": [
       "(252742, 7)"
      ]
     },
     "execution_count": 10,
     "metadata": {},
     "output_type": "execute_result"
    }
   ],
   "source": [
    "vacc.shape "
   ]
  },
  {
   "cell_type": "code",
   "execution_count": 11,
   "id": "1400f8f7",
   "metadata": {},
   "outputs": [
    {
     "name": "stdout",
     "output_type": "stream",
     "text": [
      "<class 'pandas.core.frame.DataFrame'>\n",
      "RangeIndex: 252742 entries, 0 to 252741\n",
      "Data columns (total 7 columns):\n",
      " #   Column                   Non-Null Count   Dtype  \n",
      "---  ------                   --------------   -----  \n",
      " 0   vacc_id                  252742 non-null  int64  \n",
      " 1   iso_code                 252742 non-null  object \n",
      " 2   total_tests              79387 non-null   Int64  \n",
      " 3   new_tests                75403 non-null   Int64  \n",
      " 4   positive_rate            95927 non-null   float64\n",
      " 5   people_vaccinated        68120 non-null   Int64  \n",
      " 6   people_fully_vaccinated  65459 non-null   Int64  \n",
      "dtypes: Int64(4), float64(1), int64(1), object(1)\n",
      "memory usage: 27.1 MB\n"
     ]
    }
   ],
   "source": [
    "vacc.info(memory_usage= 'deep')"
   ]
  },
  {
   "cell_type": "code",
   "execution_count": 12,
   "id": "f2f46225",
   "metadata": {},
   "outputs": [
    {
     "data": {
      "text/plain": [
       "(135080, 7)"
      ]
     },
     "execution_count": 12,
     "metadata": {},
     "output_type": "execute_result"
    }
   ],
   "source": [
    "# Removing rows that contain \"NAN\" in all columns.\n",
    "# Threshold was set =3 to prevent keeping rows that contain data in \"vacc_id\" only.\n",
    "# This will significantly reduces number of rows and therefore the data size.\n",
    "vacc = vacc.dropna(axis = 0,thresh =3)\n",
    "vacc.shape "
   ]
  },
  {
   "cell_type": "code",
   "execution_count": 13,
   "id": "b4a17ec6",
   "metadata": {},
   "outputs": [
    {
     "name": "stdout",
     "output_type": "stream",
     "text": [
      "<class 'pandas.core.frame.DataFrame'>\n",
      "Int64Index: 135080 entries, 364 to 252633\n",
      "Data columns (total 7 columns):\n",
      " #   Column                   Non-Null Count   Dtype  \n",
      "---  ------                   --------------   -----  \n",
      " 0   vacc_id                  135080 non-null  int64  \n",
      " 1   iso_code                 135080 non-null  object \n",
      " 2   total_tests              79387 non-null   Int64  \n",
      " 3   new_tests                75403 non-null   Int64  \n",
      " 4   positive_rate            95927 non-null   float64\n",
      " 5   people_vaccinated        68120 non-null   Int64  \n",
      " 6   people_fully_vaccinated  65459 non-null   Int64  \n",
      "dtypes: Int64(4), float64(1), int64(1), object(1)\n",
      "memory usage: 15.5 MB\n"
     ]
    }
   ],
   "source": [
    "vacc.info(memory_usage= 'deep')"
   ]
  },
  {
   "cell_type": "code",
   "execution_count": 14,
   "id": "1c886961",
   "metadata": {},
   "outputs": [],
   "source": [
    "# saving vaccination dataset\n",
    "vacc.to_csv(\"vaccination.csv\", index=False)"
   ]
  },
  {
   "cell_type": "markdown",
   "id": "923e6f45",
   "metadata": {},
   "source": [
    "## Creating a dataset contains the demoghraphic information"
   ]
  },
  {
   "cell_type": "code",
   "execution_count": 15,
   "id": "37134994",
   "metadata": {},
   "outputs": [
    {
     "data": {
      "text/html": [
       "<div>\n",
       "<style scoped>\n",
       "    .dataframe tbody tr th:only-of-type {\n",
       "        vertical-align: middle;\n",
       "    }\n",
       "\n",
       "    .dataframe tbody tr th {\n",
       "        vertical-align: top;\n",
       "    }\n",
       "\n",
       "    .dataframe thead th {\n",
       "        text-align: right;\n",
       "    }\n",
       "</style>\n",
       "<table border=\"1\" class=\"dataframe\">\n",
       "  <thead>\n",
       "    <tr style=\"text-align: right;\">\n",
       "      <th></th>\n",
       "      <th>iso_code</th>\n",
       "      <th>continent</th>\n",
       "      <th>location</th>\n",
       "      <th>aged_65_older</th>\n",
       "      <th>aged_70_older</th>\n",
       "      <th>diabetes_prevalence</th>\n",
       "      <th>female_smokers</th>\n",
       "      <th>male_smokers</th>\n",
       "      <th>population</th>\n",
       "    </tr>\n",
       "  </thead>\n",
       "  <tbody>\n",
       "    <tr>\n",
       "      <th>0</th>\n",
       "      <td>AFG</td>\n",
       "      <td>Asia</td>\n",
       "      <td>Afghanistan</td>\n",
       "      <td>2.581</td>\n",
       "      <td>1.337</td>\n",
       "      <td>9.59</td>\n",
       "      <td>NaN</td>\n",
       "      <td>NaN</td>\n",
       "      <td>41128772</td>\n",
       "    </tr>\n",
       "    <tr>\n",
       "      <th>1</th>\n",
       "      <td>AFG</td>\n",
       "      <td>Asia</td>\n",
       "      <td>Afghanistan</td>\n",
       "      <td>2.581</td>\n",
       "      <td>1.337</td>\n",
       "      <td>9.59</td>\n",
       "      <td>NaN</td>\n",
       "      <td>NaN</td>\n",
       "      <td>41128772</td>\n",
       "    </tr>\n",
       "    <tr>\n",
       "      <th>2</th>\n",
       "      <td>AFG</td>\n",
       "      <td>Asia</td>\n",
       "      <td>Afghanistan</td>\n",
       "      <td>2.581</td>\n",
       "      <td>1.337</td>\n",
       "      <td>9.59</td>\n",
       "      <td>NaN</td>\n",
       "      <td>NaN</td>\n",
       "      <td>41128772</td>\n",
       "    </tr>\n",
       "    <tr>\n",
       "      <th>3</th>\n",
       "      <td>AFG</td>\n",
       "      <td>Asia</td>\n",
       "      <td>Afghanistan</td>\n",
       "      <td>2.581</td>\n",
       "      <td>1.337</td>\n",
       "      <td>9.59</td>\n",
       "      <td>NaN</td>\n",
       "      <td>NaN</td>\n",
       "      <td>41128772</td>\n",
       "    </tr>\n",
       "    <tr>\n",
       "      <th>4</th>\n",
       "      <td>AFG</td>\n",
       "      <td>Asia</td>\n",
       "      <td>Afghanistan</td>\n",
       "      <td>2.581</td>\n",
       "      <td>1.337</td>\n",
       "      <td>9.59</td>\n",
       "      <td>NaN</td>\n",
       "      <td>NaN</td>\n",
       "      <td>41128772</td>\n",
       "    </tr>\n",
       "  </tbody>\n",
       "</table>\n",
       "</div>"
      ],
      "text/plain": [
       "  iso_code continent     location  aged_65_older  aged_70_older  \\\n",
       "0      AFG      Asia  Afghanistan          2.581          1.337   \n",
       "1      AFG      Asia  Afghanistan          2.581          1.337   \n",
       "2      AFG      Asia  Afghanistan          2.581          1.337   \n",
       "3      AFG      Asia  Afghanistan          2.581          1.337   \n",
       "4      AFG      Asia  Afghanistan          2.581          1.337   \n",
       "\n",
       "   diabetes_prevalence  female_smokers  male_smokers  population  \n",
       "0                 9.59             NaN           NaN    41128772  \n",
       "1                 9.59             NaN           NaN    41128772  \n",
       "2                 9.59             NaN           NaN    41128772  \n",
       "3                 9.59             NaN           NaN    41128772  \n",
       "4                 9.59             NaN           NaN    41128772  "
      ]
     },
     "execution_count": 15,
     "metadata": {},
     "output_type": "execute_result"
    }
   ],
   "source": [
    "demographic = pd.read_csv(\"complete_row_data.csv\", \n",
    "                          usecols = ['iso_code','continent', 'location',\n",
    "                                     'aged_65_older', 'aged_70_older','diabetes_prevalence', \n",
    "                                     'female_smokers','male_smokers','population'],\n",
    "                          dtype={'population': 'Int64'} )\n",
    "demographic.head()\n"
   ]
  },
  {
   "cell_type": "code",
   "execution_count": 16,
   "id": "63a1f60a",
   "metadata": {},
   "outputs": [
    {
     "name": "stdout",
     "output_type": "stream",
     "text": [
      "<class 'pandas.core.frame.DataFrame'>\n",
      "RangeIndex: 252742 entries, 0 to 252741\n",
      "Data columns (total 9 columns):\n",
      " #   Column               Non-Null Count   Dtype  \n",
      "---  ------               --------------   -----  \n",
      " 0   iso_code             252742 non-null  object \n",
      " 1   continent            238548 non-null  object \n",
      " 2   location             252742 non-null  object \n",
      " 3   aged_65_older        201534 non-null  float64\n",
      " 4   aged_70_older        202616 non-null  float64\n",
      " 5   diabetes_prevalence  213738 non-null  float64\n",
      " 6   female_smokers       153992 non-null  float64\n",
      " 7   male_smokers         151885 non-null  float64\n",
      " 8   population           251658 non-null  Int64  \n",
      "dtypes: Int64(1), float64(5), object(3)\n",
      "memory usage: 57.3 MB\n"
     ]
    }
   ],
   "source": [
    "demographic.info(memory_usage= 'deep')"
   ]
  },
  {
   "cell_type": "code",
   "execution_count": 17,
   "id": "87cb77f0",
   "metadata": {},
   "outputs": [
    {
     "data": {
      "text/html": [
       "<div>\n",
       "<style scoped>\n",
       "    .dataframe tbody tr th:only-of-type {\n",
       "        vertical-align: middle;\n",
       "    }\n",
       "\n",
       "    .dataframe tbody tr th {\n",
       "        vertical-align: top;\n",
       "    }\n",
       "\n",
       "    .dataframe thead th {\n",
       "        text-align: right;\n",
       "    }\n",
       "</style>\n",
       "<table border=\"1\" class=\"dataframe\">\n",
       "  <thead>\n",
       "    <tr style=\"text-align: right;\">\n",
       "      <th></th>\n",
       "      <th>iso_code</th>\n",
       "      <th>continent</th>\n",
       "      <th>location</th>\n",
       "      <th>aged_65_older</th>\n",
       "      <th>aged_70_older</th>\n",
       "      <th>diabetes_prevalence</th>\n",
       "      <th>female_smokers</th>\n",
       "      <th>male_smokers</th>\n",
       "      <th>population</th>\n",
       "    </tr>\n",
       "  </thead>\n",
       "  <tbody>\n",
       "    <tr>\n",
       "      <th>0</th>\n",
       "      <td>AFG</td>\n",
       "      <td>Asia</td>\n",
       "      <td>Afghanistan</td>\n",
       "      <td>2.581</td>\n",
       "      <td>1.337</td>\n",
       "      <td>9.59</td>\n",
       "      <td>NaN</td>\n",
       "      <td>NaN</td>\n",
       "      <td>41128772</td>\n",
       "    </tr>\n",
       "    <tr>\n",
       "      <th>1</th>\n",
       "      <td>OWID_AFR</td>\n",
       "      <td>NaN</td>\n",
       "      <td>Africa</td>\n",
       "      <td>NaN</td>\n",
       "      <td>NaN</td>\n",
       "      <td>NaN</td>\n",
       "      <td>NaN</td>\n",
       "      <td>NaN</td>\n",
       "      <td>1426736614</td>\n",
       "    </tr>\n",
       "    <tr>\n",
       "      <th>2</th>\n",
       "      <td>ALB</td>\n",
       "      <td>Europe</td>\n",
       "      <td>Albania</td>\n",
       "      <td>13.188</td>\n",
       "      <td>8.643</td>\n",
       "      <td>10.08</td>\n",
       "      <td>7.1</td>\n",
       "      <td>51.2</td>\n",
       "      <td>2842318</td>\n",
       "    </tr>\n",
       "    <tr>\n",
       "      <th>3</th>\n",
       "      <td>DZA</td>\n",
       "      <td>Africa</td>\n",
       "      <td>Algeria</td>\n",
       "      <td>6.211</td>\n",
       "      <td>3.857</td>\n",
       "      <td>6.73</td>\n",
       "      <td>0.7</td>\n",
       "      <td>30.4</td>\n",
       "      <td>44903228</td>\n",
       "    </tr>\n",
       "    <tr>\n",
       "      <th>4</th>\n",
       "      <td>AND</td>\n",
       "      <td>Europe</td>\n",
       "      <td>Andorra</td>\n",
       "      <td>NaN</td>\n",
       "      <td>NaN</td>\n",
       "      <td>7.97</td>\n",
       "      <td>29.0</td>\n",
       "      <td>37.8</td>\n",
       "      <td>79843</td>\n",
       "    </tr>\n",
       "  </tbody>\n",
       "</table>\n",
       "</div>"
      ],
      "text/plain": [
       "   iso_code continent     location  aged_65_older  aged_70_older  \\\n",
       "0       AFG      Asia  Afghanistan          2.581          1.337   \n",
       "1  OWID_AFR       NaN       Africa            NaN            NaN   \n",
       "2       ALB    Europe      Albania         13.188          8.643   \n",
       "3       DZA    Africa      Algeria          6.211          3.857   \n",
       "4       AND    Europe      Andorra            NaN            NaN   \n",
       "\n",
       "   diabetes_prevalence  female_smokers  male_smokers  population  \n",
       "0                 9.59             NaN           NaN    41128772  \n",
       "1                  NaN             NaN           NaN  1426736614  \n",
       "2                10.08             7.1          51.2     2842318  \n",
       "3                 6.73             0.7          30.4    44903228  \n",
       "4                 7.97            29.0          37.8       79843  "
      ]
     },
     "execution_count": 17,
     "metadata": {},
     "output_type": "execute_result"
    }
   ],
   "source": [
    "# removing duplicates recordes\n",
    "unique_demographic = demographic.drop_duplicates()\n",
    "# reset the index\n",
    "unique_demographic.reset_index(drop=True,  inplace=True)\n",
    "unique_demographic.head()"
   ]
  },
  {
   "cell_type": "code",
   "execution_count": 18,
   "id": "2704aae4",
   "metadata": {},
   "outputs": [
    {
     "name": "stdout",
     "output_type": "stream",
     "text": [
      "<class 'pandas.core.frame.DataFrame'>\n",
      "RangeIndex: 248 entries, 0 to 247\n",
      "Data columns (total 9 columns):\n",
      " #   Column               Non-Null Count  Dtype  \n",
      "---  ------               --------------  -----  \n",
      " 0   iso_code             248 non-null    object \n",
      " 1   continent            235 non-null    object \n",
      " 2   location             248 non-null    object \n",
      " 3   aged_65_older        193 non-null    float64\n",
      " 4   aged_70_older        195 non-null    float64\n",
      " 5   diabetes_prevalence  206 non-null    float64\n",
      " 6   female_smokers       147 non-null    float64\n",
      " 7   male_smokers         145 non-null    float64\n",
      " 8   population           247 non-null    Int64  \n",
      "dtypes: Int64(1), float64(5), object(3)\n",
      "memory usage: 57.8 KB\n"
     ]
    }
   ],
   "source": [
    "unique_demographic.info(memory_usage= 'deep')"
   ]
  },
  {
   "cell_type": "code",
   "execution_count": 19,
   "id": "e3dd35a1",
   "metadata": {},
   "outputs": [],
   "source": [
    "# The final dataset has only \"57.3 KB\" ibstead of \"57.8 MB\"\n",
    "# saving demographic dataset\n",
    "unique_demographic.to_csv(\"unique_demographic.csv\", index=False)"
   ]
  },
  {
   "cell_type": "code",
   "execution_count": null,
   "id": "e24b5e0e",
   "metadata": {},
   "outputs": [],
   "source": []
  },
  {
   "cell_type": "code",
   "execution_count": null,
   "id": "7829ffdf",
   "metadata": {},
   "outputs": [],
   "source": []
  }
 ],
 "metadata": {
  "kernelspec": {
   "display_name": "Python 3 (ipykernel)",
   "language": "python",
   "name": "python3"
  },
  "language_info": {
   "codemirror_mode": {
    "name": "ipython",
    "version": 3
   },
   "file_extension": ".py",
   "mimetype": "text/x-python",
   "name": "python",
   "nbconvert_exporter": "python",
   "pygments_lexer": "ipython3",
   "version": "3.9.12"
  },
  "toc": {
   "base_numbering": 1,
   "nav_menu": {},
   "number_sections": true,
   "sideBar": true,
   "skip_h1_title": false,
   "title_cell": "Table of Contents",
   "title_sidebar": "Contents",
   "toc_cell": false,
   "toc_position": {},
   "toc_section_display": true,
   "toc_window_display": false
  }
 },
 "nbformat": 4,
 "nbformat_minor": 5
}
